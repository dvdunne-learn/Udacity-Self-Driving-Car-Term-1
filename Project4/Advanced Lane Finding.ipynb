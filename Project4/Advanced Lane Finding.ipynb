{
 "cells": [
  {
   "cell_type": "code",
   "execution_count": 1,
   "metadata": {
    "collapsed": true
   },
   "outputs": [],
   "source": [
    "import glob\n",
    "import cv2\n",
    "import numpy as np\n",
    "import matplotlib.pyplot as plt\n",
    "import matplotlib.image as mpimg\n",
    "\n",
    "%matplotlib inline\n",
    "%load_ext autoreload\n",
    "%autoreload 2\n",
    "\n",
    "# Import modules created for this project. Modules are in ./project_modules folder\n",
    "import project_modules.calibrate_camera as cc\n",
    "import project_modules.image_process as ip\n",
    "import project_modules.find_lanes as fl\n",
    "import project_modules.process_video as pv"
   ]
  },
  {
   "cell_type": "code",
   "execution_count": 2,
   "metadata": {
    "collapsed": true
   },
   "outputs": [],
   "source": [
    "# Image frame process pipeline - each frame is processed with this function\n",
    "def image_process_pipeline(img, imgpoints, objpoints):\n",
    "    img = ip.undistort_image(img, imgpoints, objpoints)\n",
    "    img = ip.color_threshold(img)\n",
    "    img, Minv = ip.perspective_transform(img)    \n",
    "    return img, Minv\n",
    "\n",
    "# Function to pass into video processing\n",
    "def process_image(img):\n",
    "    processed_img, Minv = image_process_pipeline(img, imgpoints, objpoints) # Process each image frame\n",
    "    \n",
    "    # Find the lanes and radius of curvature & car position in each image\n",
    "    out_img, left_fit, right_fit, left_lane_inds, right_lane_inds = fl.find_lanes(processed_img)\n",
    "    left_curverad, right_curverad, left_fitx, right_fitx = fl.curvature_measurement(out_img, left_fit, right_fit, left_lane_inds, right_lane_inds)\n",
    "    car_position = fl.vehicle_position(out_img, left_fit, right_fit)\n",
    "    \n",
    "    # Apply smoothing filter in case some fits are outliers.\n",
    "    left_fitx = fl.line_smoothing(left_line, left_fitx, left_curverad)\n",
    "    right_fitx = fl.line_smoothing(right_line, right_fitx, right_curverad)\n",
    "    left_line.curve_list.append(left_curverad)  # For smoothing the curve output in image overlay\n",
    "   \n",
    "    # Draw found lane onto image\n",
    "    result = pv.draw_lane_image(img, processed_img, left_fitx, right_fitx, Minv)\n",
    "    result = pv.output_curvature_data(result,left_curverad,car_position, left_line)\n",
    "    \n",
    "    return result"
   ]
  },
  {
   "cell_type": "code",
   "execution_count": 3,
   "metadata": {
    "collapsed": true
   },
   "outputs": [],
   "source": [
    "# Calibrate camera\n",
    "image_names = cc.get_calibration_image_names()\n",
    "imgpoints, objpoints = cc.calibrate_camera(image_names)"
   ]
  },
  {
   "cell_type": "code",
   "execution_count": 4,
   "metadata": {},
   "outputs": [
    {
     "name": "stdout",
     "output_type": "stream",
     "text": [
      "[MoviePy] >>>> Building video Advanced Lane Finding Output.mp4\n",
      "[MoviePy] Writing video Advanced Lane Finding Output.mp4\n"
     ]
    },
    {
     "name": "stderr",
     "output_type": "stream",
     "text": [
      "100%|█████████████████████████████████████████████████████████████████████████████▉| 1260/1261 [12:50<00:00,  1.64it/s]\n"
     ]
    },
    {
     "name": "stdout",
     "output_type": "stream",
     "text": [
      "[MoviePy] Done.\n",
      "[MoviePy] >>>> Video ready: Advanced Lane Finding Output.mp4 \n",
      "\n"
     ]
    }
   ],
   "source": [
    "# Create left and right line objects\n",
    "left_line = fl.Line()\n",
    "right_line = fl.Line()\n",
    "\n",
    "# Process input video\n",
    "vid_in = 'project_video.mp4'\n",
    "vid_out = 'Advanced Lane Finding Output.mp4'\n",
    "pv.process_video(vid_in, vid_out, process_image)"
   ]
  },
  {
   "cell_type": "code",
   "execution_count": null,
   "metadata": {
    "collapsed": true
   },
   "outputs": [],
   "source": []
  }
 ],
 "metadata": {
  "kernelspec": {
   "display_name": "carnd-term1",
   "language": "python",
   "name": "carnd-term1"
  },
  "language_info": {
   "codemirror_mode": {
    "name": "ipython",
    "version": 3
   },
   "file_extension": ".py",
   "mimetype": "text/x-python",
   "name": "python",
   "nbconvert_exporter": "python",
   "pygments_lexer": "ipython3",
   "version": "3.5.2"
  }
 },
 "nbformat": 4,
 "nbformat_minor": 2
}
