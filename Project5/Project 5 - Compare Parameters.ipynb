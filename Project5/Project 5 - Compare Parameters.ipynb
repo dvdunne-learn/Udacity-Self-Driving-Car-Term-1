{
 "cells": [
  {
   "cell_type": "code",
   "execution_count": 1,
   "metadata": {
    "collapsed": true
   },
   "outputs": [],
   "source": [
    "from sklearn.preprocessing import StandardScaler\n",
    "from sklearn.model_selection import train_test_split\n",
    "from skimage.feature import hog\n",
    "from sklearn.svm import LinearSVC\n",
    "import matplotlib.image as mpimg\n",
    "import matplotlib.pyplot as plt\n",
    "import configparser as cp\n",
    "import cv2\n",
    "import numpy as np\n",
    "from pickle import dump\n",
    "from pickle import load\n",
    "import glob\n",
    "import time\n",
    "\n",
    "%matplotlib inline\n"
   ]
  },
  {
   "cell_type": "markdown",
   "metadata": {},
   "source": [
    "## Review Train Data"
   ]
  },
  {
   "cell_type": "code",
   "execution_count": 2,
   "metadata": {
    "collapsed": true
   },
   "outputs": [],
   "source": [
    "# Function to get training images\n",
    "def get_train_data():\n",
    "    images = glob.glob('data/*/*/*.png', recursive=True)\n",
    "    cars = []\n",
    "    notcars = []\n",
    "    for image in images:\n",
    "        if 'non-vehicles' in image:\n",
    "            notcars.append(image)\n",
    "        else:\n",
    "            cars.append(image)\n",
    "\n",
    "    return cars, notcars\n",
    "\n",
    "cars, notcars = get_train_data()"
   ]
  },
  {
   "cell_type": "markdown",
   "metadata": {},
   "source": [
    "# Testing Which Color Space to Use"
   ]
  },
  {
   "cell_type": "code",
   "execution_count": 23,
   "metadata": {
    "collapsed": true
   },
   "outputs": [],
   "source": [
    "# Parameters for feature extraction\n",
    "orient = 9  # HOG orientations\n",
    "pix_per_cell = 8 # HOG pixels per cell\n",
    "cell_per_block = 2 # HOG cells per block\n",
    "hog_channel = 'ALL' # Can be 0, 1, 2, or \"ALL\"\n",
    "spatial_size = (16, 16) # Spatial binning dimensions\n",
    "hist_bins = 16    # Number of histogram bins\n",
    "spatial_feat = True # Spatial features on or off\n",
    "hist_feat = True # Histogram features on or off\n",
    "hog_feat = True # HOG features on or off\n",
    "y_start_stop = [480, None] # Min and max in y to search in slide_window()\n",
    "\n",
    "cars, notcars = get_train_data()"
   ]
  },
  {
   "cell_type": "code",
   "execution_count": 4,
   "metadata": {
    "collapsed": true
   },
   "outputs": [],
   "source": [
    "def svc_model(X_train, y_train, num_folds = 5):\n",
    "    svc = make_pipeline(preprocessing.StandardScaler(), LinearSVC())\n",
    "    # Check the training time for the SVC\n",
    "    scores = cross_val_score(svc, X_train, y_train, cv=num_folds)\n",
    "    return scores"
   ]
  },
  {
   "cell_type": "code",
   "execution_count": 5,
   "metadata": {
    "collapsed": true
   },
   "outputs": [],
   "source": [
    "# Define a function to return HOG features and visualization\n",
    "def get_hog_features(img, orient, pix_per_cell, cell_per_block, \n",
    "                        vis=False, feature_vec=True, transform_sqrt=True):\n",
    "    # Call with two outputs if vis==True\n",
    "    if vis == True:\n",
    "        features, hog_image = hog(img, orientations=orient, \n",
    "                                  pixels_per_cell=(pix_per_cell, pix_per_cell),\n",
    "                                  cells_per_block=(cell_per_block, cell_per_block),\n",
    "                                  block_norm='L2-Hys', \n",
    "                                  transform_sqrt=transform_sqrt, \n",
    "                                  visualise=vis, feature_vector=feature_vec)\n",
    "        return features, hog_image\n",
    "    # Otherwise call with one output\n",
    "    else:      \n",
    "        features = hog(img, orientations=orient, \n",
    "                       pixels_per_cell=(pix_per_cell, pix_per_cell),\n",
    "                       cells_per_block=(cell_per_block, cell_per_block), \n",
    "                       block_norm='L2-Hys',\n",
    "                       transform_sqrt=transform_sqrt, \n",
    "                       visualise=vis, feature_vector=feature_vec)\n",
    "        return features\n",
    "\n",
    "# Define a function to compute binned color features  \n",
    "def bin_spatial(img, size=(32, 32)):\n",
    "    # Use cv2.resize().ravel() to create the feature vector\n",
    "    features = cv2.resize(img, size).ravel() \n",
    "    # Return the feature vector\n",
    "    return features\n",
    "\n",
    "# Define a function to compute color histogram features \n",
    "# NEED TO CHANGE bins_range if reading .png files with mpimg!\n",
    "# def color_hist(img, nbins=32, bins_range=(0, 256)):\n",
    "def color_hist(img, nbins=32, bins_range=(0, 1)):\n",
    "    # Compute the histogram of the color channels separately\n",
    "    channel1_hist = np.histogram(img[:,:,0], bins=nbins, range=bins_range)\n",
    "    channel2_hist = np.histogram(img[:,:,1], bins=nbins, range=bins_range)\n",
    "    channel3_hist = np.histogram(img[:,:,2], bins=nbins, range=bins_range)\n",
    "    # Concatenate the histograms into a single feature vector\n",
    "    hist_features = np.concatenate((channel1_hist[0], channel2_hist[0], channel3_hist[0]))\n",
    "    # Return the individual histograms, bin_centers and feature vector\n",
    "    return hist_features\n",
    "\n",
    "# Define a function to extract features from a list of images\n",
    "# Have this function call bin_spatial() and color_hist()\n",
    "def extract_features(imgs, color_space='RGB', spatial_size=(32, 32),\n",
    "                        hist_bins=32, orient=9, \n",
    "                        pix_per_cell=8, cell_per_block=2, hog_channel=0,\n",
    "                        spatial_feat=True, hist_feat=True, hog_feat=True):\n",
    "    # Create a list to append feature vectors to\n",
    "    features = []\n",
    "    transform_sqrt=True  # we will set this false if color space = LUV or YUV\n",
    "    # Iterate through the list of images\n",
    "    for file in imgs:\n",
    "        file_features = []\n",
    "        # Read in each one by one\n",
    "        image = mpimg.imread(file)\n",
    "        # apply color conversion if other than 'RGB'\n",
    "        if color_space != 'RGB':\n",
    "            if color_space == 'HSV':\n",
    "                feature_image = cv2.cvtColor(image, cv2.COLOR_RGB2HSV)\n",
    "            elif color_space == 'LUV':\n",
    "                feature_image = cv2.cvtColor(image, cv2.COLOR_RGB2LUV)\n",
    "            elif color_space == 'HLS':\n",
    "                feature_image = cv2.cvtColor(image, cv2.COLOR_RGB2HLS)\n",
    "            elif color_space == 'YUV':\n",
    "                feature_image = cv2.cvtColor(image, cv2.COLOR_RGB2YUV)\n",
    "            elif color_space == 'YCrCb':\n",
    "                feature_image = cv2.cvtColor(image, cv2.COLOR_RGB2YCrCb)\n",
    "        else: feature_image = np.copy(image)      \n",
    "\n",
    "        if spatial_feat == True:\n",
    "            spatial_features = bin_spatial(feature_image, size=spatial_size)\n",
    "            file_features.append(spatial_features)\n",
    "        if hist_feat == True:\n",
    "            # Apply color_hist()\n",
    "            hist_features = color_hist(feature_image, nbins=hist_bins)\n",
    "            file_features.append(hist_features)\n",
    "        if hog_feat == True:\n",
    "        # Hog function can cause error in YUV or LUV color spaces\n",
    "            if color_space == 'LUV' or color_space == 'YUV' :\n",
    "                transform_sqrt=False\n",
    "        # Call get_hog_features() with vis=False, feature_vec=True\n",
    "            if hog_channel == 'ALL':                \n",
    "                hog_features = []\n",
    "                for channel in range(feature_image.shape[2]):\n",
    "                    hog_features.append(get_hog_features(feature_image[:,:,channel], \n",
    "                                        orient, pix_per_cell, cell_per_block, \n",
    "                                        vis=False, feature_vec=True, transform_sqrt=transform_sqrt))\n",
    "                hog_features = np.ravel(hog_features)        \n",
    "            else:\n",
    "                hog_features = get_hog_features(feature_image[:,:,hog_channel], orient, \n",
    "                            pix_per_cell, cell_per_block, vis=False, feature_vec=True, transform_sqrt=transform_sqrt)\n",
    "            # Append the new feature vector to the features list\n",
    "            file_features.append(hog_features)\n",
    "        features.append(np.concatenate(file_features))\n",
    "    # Return list of feature vectors\n",
    "    return features"
   ]
  },
  {
   "cell_type": "code",
   "execution_count": 6,
   "metadata": {
    "collapsed": true
   },
   "outputs": [],
   "source": [
    "from sklearn.svm import LinearSVC\n",
    "from sklearn.model_selection import cross_val_score\n",
    "from sklearn import preprocessing\n",
    "from sklearn.pipeline import make_pipeline"
   ]
  },
  {
   "cell_type": "code",
   "execution_count": 31,
   "metadata": {},
   "outputs": [
    {
     "name": "stdout",
     "output_type": "stream",
     "text": [
      "Extracting features for RGB\n",
      "97.95 Seconds to extract features...\n",
      "Starting model training\n",
      "\n",
      "89.82 Seconds to train SVC...\n",
      "RGB: 0.9690 (0.0017)\n",
      "\n",
      "=====\n",
      "\n",
      "Extracting features for HSV\n",
      "92.55 Seconds to extract features...\n",
      "Starting model training\n",
      "\n",
      "74.23 Seconds to train SVC...\n",
      "HSV: 0.9820 (0.0026)\n",
      "\n",
      "=====\n",
      "\n",
      "Extracting features for LUV\n",
      "86.06 Seconds to extract features...\n",
      "Starting model training\n",
      "\n",
      "67.72 Seconds to train SVC...\n",
      "LUV: 0.9798 (0.0014)\n",
      "\n",
      "=====\n",
      "\n",
      "Extracting features for HLS\n",
      "89.23 Seconds to extract features...\n",
      "Starting model training\n",
      "\n",
      "81.32 Seconds to train SVC...\n",
      "HLS: 0.9783 (0.0018)\n",
      "\n",
      "=====\n",
      "\n",
      "Extracting features for YUV\n",
      "91.62 Seconds to extract features...\n",
      "Starting model training\n",
      "\n",
      "71.85 Seconds to train SVC...\n",
      "YUV: 0.9830 (0.0014)\n",
      "\n",
      "=====\n",
      "\n",
      "Extracting features for YCrCb\n",
      "93.71 Seconds to extract features...\n",
      "Starting model training\n",
      "\n",
      "68.42 Seconds to train SVC...\n",
      "YCrCb: 0.9846 (0.0029)\n",
      "\n",
      "=====\n",
      "\n"
     ]
    }
   ],
   "source": [
    "color_spaces = ['RGB', 'HSV', 'LUV', 'HLS', 'YUV', 'YCrCb']\n",
    "results=[]\n",
    "color_space_name = []\n",
    "\n",
    "for color_space in color_spaces:\n",
    "    t=time.time()\n",
    "    print('Extracting features for {}'.format(color_space))\n",
    "    car_features = extract_features(cars, color_space=color_space, \n",
    "                        spatial_size=spatial_size, hist_bins=hist_bins, \n",
    "                        orient=orient, pix_per_cell=pix_per_cell, \n",
    "                        cell_per_block=cell_per_block, \n",
    "                        hog_channel=hog_channel, spatial_feat=spatial_feat, \n",
    "                        hist_feat=hist_feat, hog_feat=hog_feat)\n",
    "    notcar_features = extract_features(notcars, color_space=color_space, \n",
    "                            spatial_size=spatial_size, hist_bins=hist_bins, \n",
    "                            orient=orient, pix_per_cell=pix_per_cell, \n",
    "                            cell_per_block=cell_per_block, \n",
    "                            hog_channel=hog_channel, spatial_feat=spatial_feat, \n",
    "                            hist_feat=hist_feat, hog_feat=hog_feat)\n",
    "\n",
    "    X = np.vstack((car_features, notcar_features)).astype(np.float64)\n",
    "    y = np.hstack((np.ones(len(car_features)), np.zeros(len(notcar_features))))\n",
    "    t2 = time.time()\n",
    "    print(round(t2-t, 2), 'Seconds to extract features...\\nStarting model training\\n')\n",
    "    rand_state = np.random.randint(0, 100)\n",
    "    X_train, X_test, y_train, y_test = train_test_split(X, y, test_size=0.2, random_state=rand_state)\n",
    "\n",
    "    t=time.time()\n",
    "    svc_scores = svc_model(X_train, y_train)\n",
    "    t2 = time.time()\n",
    "    print(round(t2-t, 2), 'Seconds to train SVC...')\n",
    "    msg = '{}: {:.4f} ({:.4f})\\n'.format(color_space, svc_scores.mean(), svc_scores.std())\n",
    "    print(msg)\n",
    "    print('=====\\n')\n",
    "    results.append(svc_scores)\n",
    "    color_space_name.append(color_space)"
   ]
  },
  {
   "cell_type": "code",
   "execution_count": 32,
   "metadata": {},
   "outputs": [
    {
     "data": {
      "image/png": "[encoded data removed]",
      "text/plain": [
       "<matplotlib.figure.Figure at 0x21806a9eda0>"
      ]
     },
     "metadata": {},
     "output_type": "display_data"
    }
   ],
   "source": [
    "# Compare Color Spaces\n",
    "import matplotlib.pyplot as plt\n",
    "fig = plt.figure(figsize=(12,8))\n",
    "fig.suptitle('Color Space Accuracy Score Comparison (SVC)')\n",
    "ax = fig.add_subplot(111)\n",
    "plt.boxplot(results)\n",
    "ax.set_xticklabels(color_space_name)\n",
    "plt.show()"
   ]
  },
  {
   "cell_type": "markdown",
   "metadata": {},
   "source": [
    "## Determine Orientations"
   ]
  },
  {
   "cell_type": "code",
   "execution_count": 33,
   "metadata": {
    "collapsed": true
   },
   "outputs": [],
   "source": [
    "# Parameters for feature extraction\n",
    "color_space = 'YCrCb'\n",
    "pix_per_cell = 8 # HOG pixels per cell\n",
    "cell_per_block = 2 # HOG cells per block\n",
    "hog_channel = 'ALL'\n",
    "spatial_size = (16, 16) # Spatial binning dimensions\n",
    "hist_bins = 16    # Number of histogram bins\n",
    "spatial_feat = True # Spatial features on or off\n",
    "hist_feat = True # Histogram features on or off\n",
    "hog_feat = True # HOG features on or off\n",
    "y_start_stop = [480, None] # Min and max in y to search in slide_window()\n",
    "\n",
    "cars, notcars = get_train_data()"
   ]
  },
  {
   "cell_type": "code",
   "execution_count": 34,
   "metadata": {},
   "outputs": [
    {
     "name": "stdout",
     "output_type": "stream",
     "text": [
      "Extracting features for orient: 6\n",
      "94.34 Seconds to extract features...\n",
      "Starting model training\n",
      "\n",
      "42.26 Seconds to train SVC...\n",
      "YCrCb: 0.9844 (0.0010)\n",
      "\n",
      "=====\n",
      "\n",
      "Extracting features for orient: 9\n",
      "109.03 Seconds to extract features...\n",
      "Starting model training\n",
      "\n",
      "70.43 Seconds to train SVC...\n",
      "YCrCb: 0.9847 (0.0030)\n",
      "\n",
      "=====\n",
      "\n",
      "Extracting features for orient: 10\n",
      "96.65 Seconds to extract features...\n",
      "Starting model training\n",
      "\n",
      "74.97 Seconds to train SVC...\n",
      "YCrCb: 0.9854 (0.0031)\n",
      "\n",
      "=====\n",
      "\n",
      "Extracting features for orient: 12\n",
      "109.94 Seconds to extract features...\n",
      "Starting model training\n",
      "\n",
      "94.65 Seconds to train SVC...\n",
      "YCrCb: 0.9854 (0.0015)\n",
      "\n",
      "=====\n",
      "\n"
     ]
    }
   ],
   "source": [
    "orient_values = [6, 9, 10, 12]\n",
    "results=[]\n",
    "orient_value_name = []\n",
    "\n",
    "for orient in orient_values:\n",
    "    t=time.time()\n",
    "    print('Extracting features for orient: {}'.format(orient))\n",
    "    car_features = extract_features(cars, color_space=color_space, \n",
    "                        spatial_size=spatial_size, hist_bins=hist_bins, \n",
    "                        orient=orient, pix_per_cell=pix_per_cell, \n",
    "                        cell_per_block=cell_per_block, \n",
    "                        hog_channel=hog_channel, spatial_feat=spatial_feat, \n",
    "                        hist_feat=hist_feat, hog_feat=hog_feat)\n",
    "    notcar_features = extract_features(notcars, color_space=color_space, \n",
    "                            spatial_size=spatial_size, hist_bins=hist_bins, \n",
    "                            orient=orient, pix_per_cell=pix_per_cell, \n",
    "                            cell_per_block=cell_per_block, \n",
    "                            hog_channel=hog_channel, spatial_feat=spatial_feat, \n",
    "                            hist_feat=hist_feat, hog_feat=hog_feat)\n",
    "\n",
    "    X = np.vstack((car_features, notcar_features)).astype(np.float64)\n",
    "    y = np.hstack((np.ones(len(car_features)), np.zeros(len(notcar_features))))\n",
    "    t2 = time.time()\n",
    "    print(round(t2-t, 2), 'Seconds to extract features...\\nStarting model training\\n')\n",
    "    rand_state = np.random.randint(0, 100)\n",
    "    X_train, X_test, y_train, y_test = train_test_split(X, y, test_size=0.2, random_state=rand_state)\n",
    "\n",
    "    t=time.time()\n",
    "    svc_scores = svc_model(X_train, y_train)\n",
    "    t2 = time.time()\n",
    "    print(round(t2-t, 2), 'Seconds to train SVC...')\n",
    "    msg = '{}: {:.4f} ({:.4f})\\n'.format(orient, svc_scores.mean(), svc_scores.std())\n",
    "    print(msg)\n",
    "    print('=====\\n')\n",
    "    results.append(svc_scores)\n",
    "    orient_value_name.append(orient)"
   ]
  },
  {
   "cell_type": "code",
   "execution_count": 35,
   "metadata": {},
   "outputs": [
    {
     "data": {
      "image/png": "[encoded data removed]",
      "text/plain": [
       "<matplotlib.figure.Figure at 0x21806c32cc0>"
      ]
     },
     "metadata": {},
     "output_type": "display_data"
    }
   ],
   "source": [
    "# Compare orientations\n",
    "import matplotlib.pyplot as plt\n",
    "fig = plt.figure(figsize=(12,8))\n",
    "fig.suptitle('Orientations Accuracy Score Comparison')\n",
    "ax = fig.add_subplot(111)\n",
    "plt.boxplot(results)\n",
    "ax.set_xticklabels(orient_value_name)\n",
    "plt.show()"
   ]
  },
  {
   "cell_type": "markdown",
   "metadata": {},
   "source": [
    "## Determine Pixel per Cell"
   ]
  },
  {
   "cell_type": "code",
   "execution_count": 36,
   "metadata": {
    "collapsed": true
   },
   "outputs": [],
   "source": [
    "# Parameters for feature extraction\n",
    "color_space = 'YCrCb'\n",
    "cell_per_block = 2 # HOG cells per block\n",
    "orient = 9\n",
    "hog_channel = 'ALL'\n",
    "spatial_size = (16, 16) # Spatial binning dimensions\n",
    "hist_bins = 16    # Number of histogram bins\n",
    "spatial_feat = True # Spatial features on or off\n",
    "hist_feat = True # Histogram features on or off\n",
    "hog_feat = True # HOG features on or off\n",
    "y_start_stop = [480, None] # Min and max in y to search in slide_window()\n",
    "\n",
    "cars, notcars = get_train_data()"
   ]
  },
  {
   "cell_type": "code",
   "execution_count": 37,
   "metadata": {},
   "outputs": [
    {
     "name": "stdout",
     "output_type": "stream",
     "text": [
      "Extracting features for pix_per_cell: 6\n",
      "132.08 Seconds to extract features...\n",
      "Starting model training\n",
      "\n",
      "127.43 Seconds to train SVC...\n",
      "6: 0.9811 (0.0009)\n",
      "\n",
      "=====\n",
      "\n",
      "Extracting features for pix_per_cell: 8\n",
      "96.37 Seconds to extract features...\n",
      "Starting model training\n",
      "\n",
      "66.91 Seconds to train SVC...\n",
      "8: 0.9839 (0.0025)\n",
      "\n",
      "=====\n",
      "\n",
      "Extracting features for pix_per_cell: 12\n",
      "53.85 Seconds to extract features...\n",
      "Starting model training\n",
      "\n",
      "23.28 Seconds to train SVC...\n",
      "12: 0.9838 (0.0040)\n",
      "\n",
      "=====\n",
      "\n",
      "Extracting features for pix_per_cell: 16\n",
      "47.71 Seconds to extract features...\n",
      "Starting model training\n",
      "\n",
      "15.41 Seconds to train SVC...\n",
      "16: 0.9859 (0.0014)\n",
      "\n",
      "=====\n",
      "\n"
     ]
    }
   ],
   "source": [
    "pix_per_cell_values = [6, 8, 12, 16]\n",
    "results=[]\n",
    "pix_per_cell_value_name = []\n",
    "\n",
    "for pix_per_cell in pix_per_cell_values:\n",
    "    t=time.time()\n",
    "    print('Extracting features for pix_per_cell: {}'.format(pix_per_cell))\n",
    "    car_features = extract_features(cars, color_space=color_space, \n",
    "                        spatial_size=spatial_size, hist_bins=hist_bins, \n",
    "                        orient=orient, pix_per_cell=pix_per_cell, \n",
    "                        cell_per_block=cell_per_block, \n",
    "                        hog_channel=hog_channel, spatial_feat=spatial_feat, \n",
    "                        hist_feat=hist_feat, hog_feat=hog_feat)\n",
    "    notcar_features = extract_features(notcars, color_space=color_space, \n",
    "                            spatial_size=spatial_size, hist_bins=hist_bins, \n",
    "                            orient=orient, pix_per_cell=pix_per_cell, \n",
    "                            cell_per_block=cell_per_block, \n",
    "                            hog_channel=hog_channel, spatial_feat=spatial_feat, \n",
    "                            hist_feat=hist_feat, hog_feat=hog_feat)\n",
    "\n",
    "    X = np.vstack((car_features, notcar_features)).astype(np.float64)\n",
    "    y = np.hstack((np.ones(len(car_features)), np.zeros(len(notcar_features))))\n",
    "    t2 = time.time()\n",
    "    print(round(t2-t, 2), 'Seconds to extract features...\\nStarting model training\\n')\n",
    "    rand_state = np.random.randint(0, 100)\n",
    "    X_train, X_test, y_train, y_test = train_test_split(X, y, test_size=0.2, random_state=rand_state)\n",
    "\n",
    "    t=time.time()\n",
    "    svc_scores = svc_model(X_train, y_train)\n",
    "    t2 = time.time()\n",
    "    print(round(t2-t, 2), 'Seconds to train SVC...')\n",
    "    msg = '{}: {:.4f} ({:.4f})\\n'.format(pix_per_cell, svc_scores.mean(), svc_scores.std())\n",
    "    print(msg)\n",
    "    print('=====\\n')\n",
    "    results.append(svc_scores)\n",
    "    pix_per_cell_value_name.append(pix_per_cell)\n"
   ]
  },
  {
   "cell_type": "code",
   "execution_count": 38,
   "metadata": {},
   "outputs": [
    {
     "data": {
      "image/png": "[encoded data removed]",
      "text/plain": [
       "<matplotlib.figure.Figure at 0x21806c82668>"
      ]
     },
     "metadata": {},
     "output_type": "display_data"
    }
   ],
   "source": [
    "# Compare pix_per_cell\n",
    "import matplotlib.pyplot as plt\n",
    "fig = plt.figure(figsize=(12,8))\n",
    "fig.suptitle(' Pixel per Cell Accuracy Score Comparison')\n",
    "ax = fig.add_subplot(111)\n",
    "plt.boxplot(results)\n",
    "ax.set_xticklabels(pix_per_cell_value_name)\n",
    "plt.show()"
   ]
  },
  {
   "cell_type": "markdown",
   "metadata": {},
   "source": [
    "## Detemine Cells per block"
   ]
  },
  {
   "cell_type": "code",
   "execution_count": 7,
   "metadata": {
    "collapsed": true
   },
   "outputs": [],
   "source": [
    "# Parameters for feature extraction\n",
    "color_space = 'YCrCb'\n",
    "orient = 9\n",
    "pix_per_cell = 16\n",
    "hog_channel = 'ALL'\n",
    "spatial_size = (16, 16) # Spatial binning dimensions\n",
    "hist_bins = 16    # Number of histogram bins\n",
    "spatial_feat = True # Spatial features on or off\n",
    "hist_feat = True # Histogram features on or off\n",
    "hog_feat = True # HOG features on or off\n",
    "y_start_stop = [480, None] # Min and max in y to search in slide_window()\n",
    "\n",
    "cars, notcars = get_train_data()"
   ]
  },
  {
   "cell_type": "code",
   "execution_count": 12,
   "metadata": {},
   "outputs": [
    {
     "name": "stdout",
     "output_type": "stream",
     "text": [
      "Extracting features for cell_per_block: 2\n",
      "75.76 Seconds to extract features...\n",
      "Starting model training\n",
      "\n",
      "18.82 Seconds to train SVC...\n",
      "2: 0.9875 (0.0018)\n",
      "\n",
      "=====\n",
      "\n",
      "Extracting features for cell_per_block: 4\n",
      "78.89 Seconds to extract features...\n",
      "Starting model training\n",
      "\n",
      "10.49 Seconds to train SVC...\n",
      "4: 0.9855 (0.0015)\n",
      "\n",
      "=====\n",
      "\n"
     ]
    }
   ],
   "source": [
    "cell_per_block_value = [2, 4]\n",
    "results=[]\n",
    "cell_per_block_value_name = []\n",
    "\n",
    "for cell_per_block in cell_per_block_value:\n",
    "    t=time.time()\n",
    "    print('Extracting features for cell_per_block: {}'.format(cell_per_block))\n",
    "    car_features = extract_features(cars, color_space=color_space, \n",
    "                        spatial_size=spatial_size, hist_bins=hist_bins, \n",
    "                        orient=orient, pix_per_cell=pix_per_cell, \n",
    "                        cell_per_block=cell_per_block, \n",
    "                        hog_channel=hog_channel, spatial_feat=spatial_feat, \n",
    "                        hist_feat=hist_feat, hog_feat=hog_feat)\n",
    "    notcar_features = extract_features(notcars, color_space=color_space, \n",
    "                            spatial_size=spatial_size, hist_bins=hist_bins, \n",
    "                            orient=orient, pix_per_cell=pix_per_cell, \n",
    "                            cell_per_block=cell_per_block, \n",
    "                            hog_channel=hog_channel, spatial_feat=spatial_feat, \n",
    "                            hist_feat=hist_feat, hog_feat=hog_feat)\n",
    "\n",
    "    X = np.vstack((car_features, notcar_features)).astype(np.float64)\n",
    "    y = np.hstack((np.ones(len(car_features)), np.zeros(len(notcar_features))))\n",
    "    t2 = time.time()\n",
    "    print(round(t2-t, 2), 'Seconds to extract features...\\nStarting model training\\n')\n",
    "    rand_state = np.random.randint(0, 100)\n",
    "    X_train, X_test, y_train, y_test = train_test_split(X, y, test_size=0.2, random_state=rand_state)\n",
    "\n",
    "    t=time.time()\n",
    "    svc_scores = svc_model(X_train, y_train)\n",
    "    t2 = time.time()\n",
    "    print(round(t2-t, 2), 'Seconds to train SVC...')\n",
    "    msg = '{}: {:.4f} ({:.4f})\\n'.format(cell_per_block, svc_scores.mean(), svc_scores.std())\n",
    "    print(msg)\n",
    "    print('=====\\n')\n",
    "    results.append(svc_scores)\n",
    "    cell_per_block_value_name.append(cell_per_block)\n"
   ]
  },
  {
   "cell_type": "code",
   "execution_count": 13,
   "metadata": {},
   "outputs": [
    {
     "data": {
      "image/png": "[encoded data removed]",
      "text/plain": [
       "<matplotlib.figure.Figure at 0x1d4b9e05e80>"
      ]
     },
     "metadata": {},
     "output_type": "display_data"
    }
   ],
   "source": [
    "# Compare Cells per block\n",
    "import matplotlib.pyplot as plt\n",
    "fig = plt.figure(figsize=(12,8))\n",
    "fig.suptitle(' Cells per block Accuracy Score Comparison')\n",
    "ax = fig.add_subplot(111)\n",
    "plt.boxplot(results)\n",
    "ax.set_xticklabels(cell_per_block_value_name)\n",
    "plt.show()"
   ]
  },
  {
   "cell_type": "code",
   "execution_count": null,
   "metadata": {
    "collapsed": true
   },
   "outputs": [],
   "source": []
  },
  {
   "cell_type": "code",
   "execution_count": null,
   "metadata": {
    "collapsed": true
   },
   "outputs": [],
   "source": []
  }
 ],
 "metadata": {
  "kernelspec": {
   "display_name": "carnd-term1",
   "language": "python",
   "name": "carnd-term1"
  },
  "language_info": {
   "codemirror_mode": {
    "name": "ipython",
    "version": 3
   },
   "file_extension": ".py",
   "mimetype": "text/x-python",
   "name": "python",
   "nbconvert_exporter": "python",
   "pygments_lexer": "ipython3",
   "version": "3.5.2"
  }
 },
 "nbformat": 4,
 "nbformat_minor": 2
}
