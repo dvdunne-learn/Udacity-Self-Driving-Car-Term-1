{
 "cells": [
  {
   "cell_type": "markdown",
   "metadata": {},
   "source": [
    "This script creates a config (.ini) file that allows file location data be shared amongst different notebooks."
   ]
  },
  {
   "cell_type": "code",
   "execution_count": 1,
   "metadata": {
    "collapsed": true
   },
   "outputs": [],
   "source": [
    "import configparser as cp\n",
    "config = cp.ConfigParser()"
   ]
  },
  {
   "cell_type": "code",
   "execution_count": 2,
   "metadata": {
    "collapsed": true
   },
   "outputs": [],
   "source": [
    "config['file_locations'] = {'svc_filename' : 'model-20171122-1.dat', \n",
    "                             'car_features_filename' : 'D:/CarND_Data/car_features-20171122-1.dat', \n",
    "                             'no_car_features_filename' : 'D:/CarND_Data/notcar_features-20171122-1.dat'}"
   ]
  },
  {
   "cell_type": "code",
   "execution_count": 3,
   "metadata": {
    "collapsed": true
   },
   "outputs": [],
   "source": [
    "with open('Project 5 - file_locations.ini', 'w') as configfile:\n",
    "    config.write(configfile)"
   ]
  }
 ],
 "metadata": {
  "kernelspec": {
   "display_name": "carnd-term1",
   "language": "python",
   "name": "carnd-term1"
  },
  "language_info": {
   "codemirror_mode": {
    "name": "ipython",
    "version": 3
   },
   "file_extension": ".py",
   "mimetype": "text/x-python",
   "name": "python",
   "nbconvert_exporter": "python",
   "pygments_lexer": "ipython3",
   "version": "3.5.2"
  }
 },
 "nbformat": 4,
 "nbformat_minor": 2
}
